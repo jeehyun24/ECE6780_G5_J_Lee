{
 "cells": [
  {
   "cell_type": "code",
   "execution_count": 14,
   "metadata": {},
   "outputs": [
    {
     "name": "stdout",
     "output_type": "stream",
     "text": [
      "C:\\Users\\PC\\Jeehyun\\ECE6780\\Data\\vgg\n"
     ]
    }
   ],
   "source": [
    "cd C:/Users/PC/Jeehyun/ECE6780/Data/vgg/"
   ]
  },
  {
   "cell_type": "code",
   "execution_count": 15,
   "metadata": {},
   "outputs": [],
   "source": [
    "# cd C:/Users/PC/Jeehyun/ECE6780/Data/vgg/\n",
    "import numpy as np\n",
    "from keras.preprocessing.image import ImageDataGenerator\n",
    "from keras.models import Sequential\n",
    "from keras.layers import Dropout, Flatten, Dense, Activation\n",
    "from keras import applications\n",
    "from keras import optimizers\n",
    "from keras.layers.normalization import BatchNormalization\n",
    "from tensorflow.keras.applications.inception_v3 import InceptionV3\n",
    "from keras.models import model_from_json"
   ]
  },
  {
   "cell_type": "code",
   "execution_count": 16,
   "metadata": {},
   "outputs": [],
   "source": [
    "def gen_name(mag_fact):\n",
    "    train_dir = 'breast_' + mag_fact + '_split/train'\n",
    "    val_dir = 'breast_' + mag_fact + '_split/val'\n",
    "    model_name = 'bottleneck_fc_model_' + mag_fact + '.h5'\n",
    "    return train_dir, val_dir, model_name\n",
    "\n",
    "def features():\n",
    "    img_width, img_height = 224, 224\n",
    "    \n",
    "    datagen = ImageDataGenerator(rescale=1./255)\n",
    "\n",
    "    model = applications.VGG16(weights='imagenet', include_top=False, input_shape=(img_width, img_height, 3))\n",
    "#    model = InceptionV3(weights='imagenet', include_top=False, input_shape=(img_width, img_height, 3))\n",
    "    print('Model loaded.')\n",
    "\n",
    "    train_generator = datagen.flow_from_directory(\n",
    "        train_data_dir,\n",
    "        target_size=(img_width, img_height),\n",
    "        batch_size=batch_size,\n",
    "        class_mode=None,\n",
    "        shuffle=False)\n",
    "    \n",
    "    features_train = model.predict_generator(\n",
    "        train_generator, nb_train_samples//batch_size)\n",
    "    np.save(open('base_features_train_' + mag_fact +'.npy', 'wb'),\n",
    "            features_train)\n",
    "\n",
    "    val_generator = datagen.flow_from_directory(\n",
    "        validation_data_dir,\n",
    "        target_size=(img_width, img_height),\n",
    "        batch_size=batch_size,\n",
    "        class_mode=None,\n",
    "        shuffle=False)\n",
    "    \n",
    "    features_validation = model.predict_generator(\n",
    "        val_generator, nb_validation_samples//batch_size)\n",
    "    np.save(open('base_features_validation' + mag_fact +'.npy', 'wb'),\n",
    "            features_validation)\n",
    "    \n",
    "def train_model():\n",
    "    train_data = np.load(open('base_features_train_' + mag_fact +'.npy', 'rb'))\n",
    "    train_labels = np.array([0] * b_train + [1] * m_train)\n",
    "\n",
    "    validation_data = np.load(open('base_features_validation' + mag_fact +'.npy', 'rb'))\n",
    "    validation_labels = np.array([0] * b_val + [1] * m_val)\n",
    "\n",
    "    model = Sequential()\n",
    "    model.add(Flatten(input_shape=train_data.shape[1:]))\n",
    "    model.add(Dense(256))\n",
    "    model.add(Activation('relu'))\n",
    "    model.add(Dropout(0.25))\n",
    "    model.add(Dense(1))\n",
    "    model.add(Activation('sigmoid'))\n",
    "\n",
    "    model.compile(optimizer='sgd',\n",
    "                  loss='binary_crossentropy', metrics=['accuracy'])\n",
    "    \n",
    "    model.fit(train_data, train_labels,\n",
    "              epochs=epochs,\n",
    "              batch_size=batch_size,\n",
    "              validation_data=(validation_data, validation_labels))\n",
    "    #model.save_weights(model_name)\n",
    "    \n",
    "    model_new_name = 'TL_model_' + mag_fact\n",
    "    model_json = model.to_json()\n",
    "    with open(model_new_name + '.json', \"w\") as json_file:\n",
    "        json_file.write(model_json)\n",
    "    model.save_weights(model_new_name + '.h5')    "
   ]
  },
  {
   "cell_type": "code",
   "execution_count": 17,
   "metadata": {},
   "outputs": [
    {
     "name": "stdout",
     "output_type": "stream",
     "text": [
      "Model loaded.\n",
      "Found 1670 images belonging to 2 classes.\n",
      "Found 311 images belonging to 2 classes.\n",
      "Train on 1670 samples, validate on 311 samples\n",
      "Epoch 1/10\n",
      "1670/1670 [==============================] - 30s 18ms/step - loss: 0.6779 - accuracy: 0.6946 - val_loss: 0.7197 - val_accuracy: 0.5595\n",
      "Epoch 2/10\n",
      "1670/1670 [==============================] - 29s 18ms/step - loss: 0.6135 - accuracy: 0.6970 - val_loss: 0.7189 - val_accuracy: 0.5595\n",
      "Epoch 3/10\n",
      "1670/1670 [==============================] - 29s 18ms/step - loss: 0.6123 - accuracy: 0.6988 - val_loss: 0.7432 - val_accuracy: 0.5595\n",
      "Epoch 4/10\n",
      "1670/1670 [==============================] - 29s 18ms/step - loss: 0.6148 - accuracy: 0.6946 - val_loss: 0.6606 - val_accuracy: 0.6302\n",
      "Epoch 5/10\n",
      "1670/1670 [==============================] - 29s 18ms/step - loss: 0.6147 - accuracy: 0.6916 - val_loss: 0.7617 - val_accuracy: 0.5595\n",
      "Epoch 6/10\n",
      "1670/1670 [==============================] - 29s 18ms/step - loss: 0.6152 - accuracy: 0.6898 - val_loss: 0.7326 - val_accuracy: 0.5595\n",
      "Epoch 7/10\n",
      "1670/1670 [==============================] - 30s 18ms/step - loss: 0.6150 - accuracy: 0.6904 - val_loss: 0.7385 - val_accuracy: 0.5595\n",
      "Epoch 8/10\n",
      "1670/1670 [==============================] - 30s 18ms/step - loss: 0.6106 - accuracy: 0.7006 - val_loss: 0.7346 - val_accuracy: 0.5595\n",
      "Epoch 9/10\n",
      "1670/1670 [==============================] - 29s 18ms/step - loss: 0.6077 - accuracy: 0.7000 - val_loss: 0.7479 - val_accuracy: 0.5595\n",
      "Epoch 10/10\n",
      "1670/1670 [==============================] - 29s 18ms/step - loss: 0.6135 - accuracy: 0.7012 - val_loss: 0.7153 - val_accuracy: 0.5595\n"
     ]
    }
   ],
   "source": [
    "mag_fact = '40'\n",
    "b_train, m_train, b_test, m_test, b_val, m_val = 500, 1170, 100, 137, 137, 174\n",
    "\n",
    "nb_train_samples =  b_train + m_train\n",
    "nb_validation_samples =  b_val + m_val\n",
    "train_data_dir, validation_data_dir, model_name = gen_name(mag_fact)\n",
    "sgd = optimizers.SGD(lr=0.001, momentum=0.7)\n",
    "\n",
    "batch_size = 1\n",
    "epochs = 10\n",
    "features()\n",
    "train_model()"
   ]
  },
  {
   "cell_type": "code",
   "execution_count": 18,
   "metadata": {},
   "outputs": [
    {
     "name": "stdout",
     "output_type": "stream",
     "text": [
      "Model loaded.\n",
      "Found 1752 images belonging to 2 classes.\n",
      "Found 323 images belonging to 2 classes.\n",
      "Train on 1752 samples, validate on 323 samples\n",
      "Epoch 1/10\n",
      "1752/1752 [==============================] - 31s 18ms/step - loss: 0.6637 - accuracy: 0.7021 - val_loss: 0.7096 - val_accuracy: 0.5820\n",
      "Epoch 2/10\n",
      "1752/1752 [==============================] - 31s 18ms/step - loss: 0.6087 - accuracy: 0.7043 - val_loss: 0.7113 - val_accuracy: 0.5820\n",
      "Epoch 3/10\n",
      "1752/1752 [==============================] - 31s 18ms/step - loss: 0.6082 - accuracy: 0.7043 - val_loss: 0.7129 - val_accuracy: 0.5820\n",
      "Epoch 4/10\n",
      "1752/1752 [==============================] - 31s 18ms/step - loss: 0.6063 - accuracy: 0.7055 - val_loss: 0.7055 - val_accuracy: 0.5820\n",
      "Epoch 5/10\n",
      "1752/1752 [==============================] - 31s 18ms/step - loss: 0.6025 - accuracy: 0.7026 - val_loss: 0.7019 - val_accuracy: 0.5820\n",
      "Epoch 6/10\n",
      "1752/1752 [==============================] - 31s 18ms/step - loss: 0.6070 - accuracy: 0.7055 - val_loss: 0.7181 - val_accuracy: 0.5820\n",
      "Epoch 7/10\n",
      "1752/1752 [==============================] - 31s 18ms/step - loss: 0.6090 - accuracy: 0.6986 - val_loss: 0.6793 - val_accuracy: 0.5820\n",
      "Epoch 8/10\n",
      "1752/1752 [==============================] - 31s 18ms/step - loss: 0.6000 - accuracy: 0.7043 - val_loss: 1.0379 - val_accuracy: 0.4644\n",
      "Epoch 9/10\n",
      "1752/1752 [==============================] - 31s 18ms/step - loss: 0.5907 - accuracy: 0.7146 - val_loss: 0.7067 - val_accuracy: 0.5882\n",
      "Epoch 10/10\n",
      "1752/1752 [==============================] - 33s 19ms/step - loss: 0.6000 - accuracy: 0.7192 - val_loss: 0.7260 - val_accuracy: 0.5820\n"
     ]
    }
   ],
   "source": [
    "mag_fact = '100'\n",
    "b_train, m_train, b_test, m_test, b_val, m_val = 515, 1237, 100, 145, 135, 188\n",
    "\n",
    "nb_train_samples =  b_train + m_train\n",
    "nb_validation_samples =  b_val + m_val\n",
    "train_data_dir, validation_data_dir, model_name = gen_name(mag_fact)\n",
    "sgd = optimizers.SGD(lr=0.001, momentum=0.7)\n",
    "\n",
    "batch_size = 1\n",
    "epochs = 10\n",
    "features()\n",
    "train_model()"
   ]
  },
  {
   "cell_type": "code",
   "execution_count": 19,
   "metadata": {
    "scrolled": true
   },
   "outputs": [
    {
     "name": "stdout",
     "output_type": "stream",
     "text": [
      "Model loaded.\n",
      "Found 1688 images belonging to 2 classes.\n",
      "Found 315 images belonging to 2 classes.\n",
      "Train on 1688 samples, validate on 315 samples\n",
      "Epoch 1/10\n",
      "1688/1688 [==============================] - 31s 18ms/step - loss: 0.6968 - accuracy: 0.6985 - val_loss: 0.7186 - val_accuracy: 0.5651\n",
      "Epoch 2/10\n",
      "1688/1688 [==============================] - 31s 18ms/step - loss: 0.6092 - accuracy: 0.7038 - val_loss: 0.7326 - val_accuracy: 0.5651\n",
      "Epoch 3/10\n",
      "1688/1688 [==============================] - 31s 18ms/step - loss: 0.6100 - accuracy: 0.7044 - val_loss: 0.7137 - val_accuracy: 0.5651\n",
      "Epoch 4/10\n",
      "1688/1688 [==============================] - 31s 18ms/step - loss: 0.6120 - accuracy: 0.7020 - val_loss: 0.7329 - val_accuracy: 0.5651\n",
      "Epoch 5/10\n",
      "1688/1688 [==============================] - 30s 18ms/step - loss: 0.6110 - accuracy: 0.6985 - val_loss: 0.7215 - val_accuracy: 0.5651\n",
      "Epoch 6/10\n",
      "1688/1688 [==============================] - 32s 19ms/step - loss: 0.6113 - accuracy: 0.6985 - val_loss: 0.7349 - val_accuracy: 0.5651\n",
      "Epoch 7/10\n",
      "1688/1688 [==============================] - 32s 19ms/step - loss: 0.6054 - accuracy: 0.7002 - val_loss: 0.6053 - val_accuracy: 0.6889\n",
      "Epoch 8/10\n",
      "1688/1688 [==============================] - 32s 19ms/step - loss: 0.6010 - accuracy: 0.7091 - val_loss: 0.5495 - val_accuracy: 0.7492\n",
      "Epoch 9/10\n",
      "1688/1688 [==============================] - 32s 19ms/step - loss: 0.5772 - accuracy: 0.7263 - val_loss: 0.7058 - val_accuracy: 0.5651\n",
      "Epoch 10/10\n",
      "1688/1688 [==============================] - 32s 19ms/step - loss: 0.5984 - accuracy: 0.7133 - val_loss: 0.6916 - val_accuracy: 0.5651\n"
     ]
    }
   ],
   "source": [
    "mag_fact = '200'\n",
    "b_train, m_train, b_test, m_test, b_val, m_val = 498, 1190, 100, 139, 137, 178\n",
    "\n",
    "nb_train_samples =  b_train + m_train\n",
    "nb_validation_samples =  b_val + m_val\n",
    "train_data_dir, validation_data_dir, model_name = gen_name(mag_fact)\n",
    "sgd = optimizers.SGD(lr=0.001, momentum=0.7)\n",
    "\n",
    "batch_size = 1\n",
    "epochs = 10\n",
    "features()\n",
    "train_model()"
   ]
  },
  {
   "cell_type": "code",
   "execution_count": 20,
   "metadata": {},
   "outputs": [
    {
     "name": "stdout",
     "output_type": "stream",
     "text": [
      "Model loaded.\n",
      "Found 1502 images belonging to 2 classes.\n",
      "Found 287 images belonging to 2 classes.\n",
      "Train on 1502 samples, validate on 287 samples\n",
      "Epoch 1/10\n",
      "1502/1502 [==============================] - 27s 18ms/step - loss: 0.7171 - accuracy: 0.6804 - val_loss: 0.7552 - val_accuracy: 0.5122\n",
      "Epoch 2/10\n",
      "1502/1502 [==============================] - 27s 18ms/step - loss: 0.6231 - accuracy: 0.6864 - val_loss: 0.7555 - val_accuracy: 0.5122\n",
      "Epoch 3/10\n",
      "1502/1502 [==============================] - 27s 18ms/step - loss: 0.6222 - accuracy: 0.6871 - val_loss: 0.7645 - val_accuracy: 0.5122\n",
      "Epoch 4/10\n",
      "1502/1502 [==============================] - 27s 18ms/step - loss: 0.6222 - accuracy: 0.6871 - val_loss: 0.7513 - val_accuracy: 0.5122\n",
      "Epoch 5/10\n",
      "1502/1502 [==============================] - 27s 18ms/step - loss: 0.6226 - accuracy: 0.6858 - val_loss: 0.7668 - val_accuracy: 0.5122\n",
      "Epoch 6/10\n",
      "1502/1502 [==============================] - 29s 19ms/step - loss: 0.6229 - accuracy: 0.6864 - val_loss: 0.7692 - val_accuracy: 0.5122\n",
      "Epoch 7/10\n",
      "1502/1502 [==============================] - 29s 19ms/step - loss: 0.6239 - accuracy: 0.6864 - val_loss: 0.7550 - val_accuracy: 0.5122\n",
      "Epoch 8/10\n",
      "1502/1502 [==============================] - 29s 19ms/step - loss: 0.6240 - accuracy: 0.6858 - val_loss: 0.7560 - val_accuracy: 0.5122\n",
      "Epoch 9/10\n",
      "1502/1502 [==============================] - 29s 19ms/step - loss: 0.6229 - accuracy: 0.6871 - val_loss: 0.7426 - val_accuracy: 0.5122\n",
      "Epoch 10/10\n",
      "1502/1502 [==============================] - 29s 19ms/step - loss: 0.6227 - accuracy: 0.6858 - val_loss: 0.7536 - val_accuracy: 0.5122\n"
     ]
    }
   ],
   "source": [
    "mag_fact = '400'\n",
    "b_train, m_train, b_test, m_test, b_val, m_val = 470, 1032, 100, 124, 140, 147\n",
    "\n",
    "nb_train_samples =  b_train + m_train\n",
    "nb_validation_samples =  b_val + m_val\n",
    "train_data_dir, validation_data_dir, model_name = gen_name(mag_fact)\n",
    "sgd = optimizers.SGD(lr=0.001, momentum=0.7)\n",
    "\n",
    "batch_size = 1\n",
    "epochs = 10\n",
    "features()\n",
    "train_model()"
   ]
  }
 ],
 "metadata": {
  "kernelspec": {
   "display_name": "Python 3",
   "language": "python",
   "name": "python3"
  },
  "language_info": {
   "codemirror_mode": {
    "name": "ipython",
    "version": 3
   },
   "file_extension": ".py",
   "mimetype": "text/x-python",
   "name": "python",
   "nbconvert_exporter": "python",
   "pygments_lexer": "ipython3",
   "version": "3.7.4"
  }
 },
 "nbformat": 4,
 "nbformat_minor": 2
}
