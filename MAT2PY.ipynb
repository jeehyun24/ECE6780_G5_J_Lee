{
 "cells": [
  {
   "cell_type": "code",
   "execution_count": 1,
   "metadata": {},
   "outputs": [
    {
     "name": "stdout",
     "output_type": "stream",
     "text": [
      "C:\\Users\\PC\\Jeehyun\\ECE6780\\Data\n"
     ]
    }
   ],
   "source": [
    "cd C:/Users/PC/Jeehyun/ECE6780/Data/"
   ]
  },
  {
   "cell_type": "code",
   "execution_count": 2,
   "metadata": {},
   "outputs": [
    {
     "name": "stderr",
     "output_type": "stream",
     "text": [
      "Using TensorFlow backend.\n"
     ]
    }
   ],
   "source": [
    "import numpy as np\n",
    "from keras.preprocessing.image import ImageDataGenerator\n",
    "from keras.models import Sequential\n",
    "from keras.models import Model\n",
    "from keras.layers import Dropout, Flatten, Dense, Activation\n",
    "from keras import applications\n",
    "from keras import optimizers\n",
    "from keras.layers.normalization import BatchNormalization\n",
    "from keras.applications.inception_v3 import InceptionV3\n",
    "from keras.models import model_from_json\n",
    "\n",
    "import sys\n",
    "import os\n",
    "from glob import glob"
   ]
  },
  {
   "cell_type": "code",
   "execution_count": null,
   "metadata": {},
   "outputs": [],
   "source": []
  },
  {
   "cell_type": "code",
   "execution_count": null,
   "metadata": {},
   "outputs": [],
   "source": []
  },
  {
   "cell_type": "code",
   "execution_count": null,
   "metadata": {},
   "outputs": [],
   "source": []
  },
  {
   "cell_type": "code",
   "execution_count": null,
   "metadata": {},
   "outputs": [],
   "source": []
  },
  {
   "cell_type": "code",
   "execution_count": 3,
   "metadata": {},
   "outputs": [],
   "source": [
    "homeDIr = 'C:/Users/PC/Jeehyun/ECE6780/Data/tf_files/'\n",
    "b_train = 498\n",
    "m_train = 1190\n",
    "b_test = 100\n",
    "m_test = 139\n",
    "b_val = 137\n",
    "m_val = 178"
   ]
  },
  {
   "cell_type": "code",
   "execution_count": 4,
   "metadata": {},
   "outputs": [],
   "source": [
    "mag_fact = '200'\n",
    "train_dir = 'breast_' + mag_fact + '_split/train'\n",
    "subfolders = os.listdir(train_dir)\n",
    "\n",
    "TL_imgNames = []\n",
    "for subf in subfolders:\n",
    "    tumfolders = os.listdir(train_dir + '/' + subf)\n",
    "    for m in tumfolders:\n",
    "        m = m.split('.')[0] + '.tif'\n",
    "        TL_imgNames.append(m)"
   ]
  },
  {
   "cell_type": "code",
   "execution_count": 5,
   "metadata": {},
   "outputs": [],
   "source": [
    "import csv\n",
    "with open('breakhis_name.csv', newline='') as csvfile:\n",
    "    dataNames = list(csv.reader(csvfile))\n",
    "\n",
    "FileNames = np.array(dataNames)\n",
    "del dataNames"
   ]
  },
  {
   "cell_type": "code",
   "execution_count": 8,
   "metadata": {},
   "outputs": [],
   "source": [
    "rows = 0\n",
    "fnames = []\n",
    "while rows < len(FileNames):  \n",
    "    names = FileNames[rows][0]\n",
    "    fnames.append(names)\n",
    "    rows += 1\n",
    "del FileNames"
   ]
  },
  {
   "cell_type": "code",
   "execution_count": 10,
   "metadata": {},
   "outputs": [],
   "source": [
    "DataInd = []\n",
    "k=0\n",
    "while k < len(TL_imgNames):\n",
    "    d = fnames.index(TL_imgNames[k])\n",
    "    DataInd.append(d)\n",
    "    k += 1 "
   ]
  },
  {
   "cell_type": "code",
   "execution_count": 23,
   "metadata": {},
   "outputs": [],
   "source": [
    "with open('DataInd.txt', 'w') as f:\n",
    "    for item in DataInd:\n",
    "        f.write(\"%s\\n\" % item)"
   ]
  },
  {
   "cell_type": "code",
   "execution_count": 25,
   "metadata": {},
   "outputs": [
    {
     "ename": "NameError",
     "evalue": "name 'FileNames' is not defined",
     "output_type": "error",
     "traceback": [
      "\u001b[1;31m---------------------------------------------------------------------------\u001b[0m",
      "\u001b[1;31mNameError\u001b[0m                                 Traceback (most recent call last)",
      "\u001b[1;32m<ipython-input-25-3aa36d841dfd>\u001b[0m in \u001b[0;36m<module>\u001b[1;34m\u001b[0m\n\u001b[1;32m----> 1\u001b[1;33m \u001b[0mFileNames\u001b[0m\u001b[1;33m\u001b[0m\u001b[1;33m\u001b[0m\u001b[0m\n\u001b[0m",
      "\u001b[1;31mNameError\u001b[0m: name 'FileNames' is not defined"
     ]
    }
   ],
   "source": [
    "FileNames"
   ]
  },
  {
   "cell_type": "code",
   "execution_count": 27,
   "metadata": {},
   "outputs": [],
   "source": [
    "mag_fact = '200'\n",
    "val_dir = 'breast_' + mag_fact + '_split/val'\n",
    "subfolders = os.listdir(val_dir)\n",
    "\n",
    "TL_imgNames = []\n",
    "for subf in subfolders:\n",
    "    tumfolders = os.listdir(val_dir + '/' + subf)\n",
    "    for m in tumfolders:\n",
    "        m = m.split('.')[0] + '.tif'\n",
    "        TL_imgNames.append(m)\n",
    "                \n",
    "with open('breakhis_name.csv', newline='') as csvfile:\n",
    "    dataNames = list(csv.reader(csvfile))\n",
    "\n",
    "FileNames = np.array(dataNames)\n",
    "del dataNames\n",
    "\n",
    "rows = 0\n",
    "fnames = []\n",
    "while rows < len(FileNames):  \n",
    "    names = FileNames[rows][0]\n",
    "    fnames.append(names)\n",
    "    rows += 1\n",
    "del FileNames\n",
    "\n",
    "DataInd = []\n",
    "k=0\n",
    "while k < len(TL_imgNames):\n",
    "    d = fnames.index(TL_imgNames[k])\n",
    "    DataInd.append(d)\n",
    "    k += 1 \n",
    "    \n",
    "with open('DataInd_val.txt', 'w') as f:\n",
    "    for item in DataInd:\n",
    "        f.write(\"%s\\n\" % item)"
   ]
  },
  {
   "cell_type": "code",
   "execution_count": null,
   "metadata": {},
   "outputs": [],
   "source": []
  }
 ],
 "metadata": {
  "kernelspec": {
   "display_name": "Python 3",
   "language": "python",
   "name": "python3"
  },
  "language_info": {
   "codemirror_mode": {
    "name": "ipython",
    "version": 3
   },
   "file_extension": ".py",
   "mimetype": "text/x-python",
   "name": "python",
   "nbconvert_exporter": "python",
   "pygments_lexer": "ipython3",
   "version": "3.7.4"
  }
 },
 "nbformat": 4,
 "nbformat_minor": 2
}
