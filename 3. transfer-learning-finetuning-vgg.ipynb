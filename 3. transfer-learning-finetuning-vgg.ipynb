{
 "cells": [
  {
   "cell_type": "code",
   "execution_count": 3,
   "metadata": {},
   "outputs": [
    {
     "name": "stdout",
     "output_type": "stream",
     "text": [
      "C:\\Users\\PC\\Jeehyun\\ECE6780\\Data\\vgg\n"
     ]
    }
   ],
   "source": [
    "cd C:/Users/PC/Jeehyun/ECE6780/Data/vgg/"
   ]
  },
  {
   "cell_type": "code",
   "execution_count": 4,
   "metadata": {},
   "outputs": [
    {
     "name": "stderr",
     "output_type": "stream",
     "text": [
      "Using TensorFlow backend.\n"
     ]
    }
   ],
   "source": [
    "import numpy as np\n",
    "from keras.preprocessing.image import ImageDataGenerator\n",
    "from keras.models import Sequential\n",
    "from keras.models import Model\n",
    "from keras.layers import Dropout, Flatten, Dense, Activation\n",
    "from keras import applications\n",
    "from keras import optimizers\n",
    "from keras.layers.normalization import BatchNormalization\n",
    "from keras.applications.inception_v3 import InceptionV3"
   ]
  },
  {
   "cell_type": "code",
   "execution_count": 5,
   "metadata": {},
   "outputs": [],
   "source": [
    "b_train = 498\n",
    "m_train = 1190\n",
    "b_test = 100\n",
    "m_test = 139\n",
    "b_val = 137\n",
    "m_val = 178\n",
    "\n",
    "mag_fact = 200\n",
    "nb_train_samples =  b_train + m_train\n",
    "nb_validation_samples =  b_val + m_val\n",
    "batch_size = 1\n",
    "\n",
    "epochs = 10\n",
    "img_width, img_height = 224, 224"
   ]
  },
  {
   "cell_type": "code",
   "execution_count": 6,
   "metadata": {},
   "outputs": [
    {
     "name": "stdout",
     "output_type": "stream",
     "text": [
      "Model loaded.\n"
     ]
    }
   ],
   "source": [
    "mag_fact = '200'\n",
    "model_new_name = 'TL_model_' + mag_fact\n",
    "\n",
    "top_model_weights_path = model_new_name + '.h5'\n",
    "\n",
    "model = applications.VGG16(weights='imagenet', include_top=False, input_shape=(img_width, img_height, 3))\n",
    "print('Model loaded.')\n",
    "\n",
    "top_model = Sequential()\n",
    "\n",
    "top_model.add(Flatten(input_shape=model.output_shape[1:]))\n",
    "\n",
    "top_model.add(Dense(256))\n",
    "top_model.add(Activation('relu'))\n",
    "top_model.add(Dropout(0.25))\n",
    "top_model.add(Dense(1))\n",
    "top_model.add(Activation('sigmoid'))\n",
    "\n",
    "top_model.load_weights(top_model_weights_path)"
   ]
  },
  {
   "cell_type": "code",
   "execution_count": 7,
   "metadata": {},
   "outputs": [],
   "source": [
    "def gen_name(mag_fact):\n",
    "    train_dir = 'breast_' + mag_fact + '_split/train'\n",
    "    val_dir = 'breast_' + mag_fact + '_split/val'\n",
    "    model_name = 'bottleneck_fc_model_' + mag_fact + '.h5'\n",
    "    return train_dir, val_dir, model_name\n",
    "\n",
    "train_data_dir, validation_data_dir, model_name = gen_name(mag_fact)"
   ]
  },
  {
   "cell_type": "code",
   "execution_count": 8,
   "metadata": {
    "scrolled": true
   },
   "outputs": [
    {
     "name": "stderr",
     "output_type": "stream",
     "text": [
      "C:\\Users\\PC\\Anaconda3\\lib\\site-packages\\ipykernel_launcher.py:1: UserWarning: Update your `Model` call to the Keras 2 API: `Model(inputs=Tensor(\"in..., outputs=Tensor(\"se...)`\n",
      "  \"\"\"Entry point for launching an IPython kernel.\n"
     ]
    }
   ],
   "source": [
    "newmodel = Model(input= model.input, output= top_model(model.output))\n",
    "\n",
    "for layer in newmodel.layers[:15]:\n",
    "    layer.trainable = False\n",
    "    \n",
    "newmodel.compile(loss='binary_crossentropy',\n",
    "              optimizer=optimizers.SGD(lr=1e-4, momentum=0.9),\n",
    "              metrics=['accuracy'])\n"
   ]
  },
  {
   "cell_type": "code",
   "execution_count": 9,
   "metadata": {},
   "outputs": [
    {
     "name": "stdout",
     "output_type": "stream",
     "text": [
      "Model: \"model_1\"\n",
      "_________________________________________________________________\n",
      "Layer (type)                 Output Shape              Param #   \n",
      "=================================================================\n",
      "input_1 (InputLayer)         (None, 224, 224, 3)       0         \n",
      "_________________________________________________________________\n",
      "block1_conv1 (Conv2D)        (None, 224, 224, 64)      1792      \n",
      "_________________________________________________________________\n",
      "block1_conv2 (Conv2D)        (None, 224, 224, 64)      36928     \n",
      "_________________________________________________________________\n",
      "block1_pool (MaxPooling2D)   (None, 112, 112, 64)      0         \n",
      "_________________________________________________________________\n",
      "block2_conv1 (Conv2D)        (None, 112, 112, 128)     73856     \n",
      "_________________________________________________________________\n",
      "block2_conv2 (Conv2D)        (None, 112, 112, 128)     147584    \n",
      "_________________________________________________________________\n",
      "block2_pool (MaxPooling2D)   (None, 56, 56, 128)       0         \n",
      "_________________________________________________________________\n",
      "block3_conv1 (Conv2D)        (None, 56, 56, 256)       295168    \n",
      "_________________________________________________________________\n",
      "block3_conv2 (Conv2D)        (None, 56, 56, 256)       590080    \n",
      "_________________________________________________________________\n",
      "block3_conv3 (Conv2D)        (None, 56, 56, 256)       590080    \n",
      "_________________________________________________________________\n",
      "block3_pool (MaxPooling2D)   (None, 28, 28, 256)       0         \n",
      "_________________________________________________________________\n",
      "block4_conv1 (Conv2D)        (None, 28, 28, 512)       1180160   \n",
      "_________________________________________________________________\n",
      "block4_conv2 (Conv2D)        (None, 28, 28, 512)       2359808   \n",
      "_________________________________________________________________\n",
      "block4_conv3 (Conv2D)        (None, 28, 28, 512)       2359808   \n",
      "_________________________________________________________________\n",
      "block4_pool (MaxPooling2D)   (None, 14, 14, 512)       0         \n",
      "_________________________________________________________________\n",
      "block5_conv1 (Conv2D)        (None, 14, 14, 512)       2359808   \n",
      "_________________________________________________________________\n",
      "block5_conv2 (Conv2D)        (None, 14, 14, 512)       2359808   \n",
      "_________________________________________________________________\n",
      "block5_conv3 (Conv2D)        (None, 14, 14, 512)       2359808   \n",
      "_________________________________________________________________\n",
      "block5_pool (MaxPooling2D)   (None, 7, 7, 512)         0         \n",
      "_________________________________________________________________\n",
      "sequential_1 (Sequential)    (None, 1)                 6423041   \n",
      "=================================================================\n",
      "Total params: 21,137,729\n",
      "Trainable params: 13,502,465\n",
      "Non-trainable params: 7,635,264\n",
      "_________________________________________________________________\n"
     ]
    }
   ],
   "source": [
    "newmodel.summary()"
   ]
  },
  {
   "cell_type": "code",
   "execution_count": 10,
   "metadata": {},
   "outputs": [],
   "source": [
    "train_datagen = ImageDataGenerator(\n",
    "    rescale=1. / 255,\n",
    "    shear_range=0.2,\n",
    "    zoom_range=0.2,\n",
    "    horizontal_flip=True)\n",
    "\n",
    "test_datagen = ImageDataGenerator(rescale=1. / 255)"
   ]
  },
  {
   "cell_type": "code",
   "execution_count": 11,
   "metadata": {},
   "outputs": [
    {
     "name": "stdout",
     "output_type": "stream",
     "text": [
      "Found 1688 images belonging to 2 classes.\n",
      "Found 315 images belonging to 2 classes.\n"
     ]
    },
    {
     "name": "stderr",
     "output_type": "stream",
     "text": [
      "C:\\Users\\PC\\Anaconda3\\lib\\site-packages\\ipykernel_launcher.py:18: UserWarning: The semantics of the Keras 2 argument `steps_per_epoch` is not the same as the Keras 1 argument `samples_per_epoch`. `steps_per_epoch` is the number of batches to draw from the generator at each epoch. Basically steps_per_epoch = samples_per_epoch/batch_size. Similarly `nb_val_samples`->`validation_steps` and `val_samples`->`steps` arguments have changed. Update your method calls accordingly.\n",
      "C:\\Users\\PC\\Anaconda3\\lib\\site-packages\\ipykernel_launcher.py:18: UserWarning: Update your `fit_generator` call to the Keras 2 API: `fit_generator(<keras.pre..., epochs=1, validation_data=<keras.pre..., steps_per_epoch=1688, validation_steps=315)`\n"
     ]
    },
    {
     "name": "stdout",
     "output_type": "stream",
     "text": [
      "Epoch 1/1\n",
      "1688/1688 [==============================] - 817s 484ms/step - loss: 0.6427 - accuracy: 0.6410 - val_loss: 0.3194 - val_accuracy: 0.5651\n"
     ]
    },
    {
     "data": {
      "text/plain": [
       "<keras.callbacks.callbacks.History at 0x1dbf21f4708>"
      ]
     },
     "execution_count": 11,
     "metadata": {},
     "output_type": "execute_result"
    }
   ],
   "source": [
    "train_generator = train_datagen.flow_from_directory(\n",
    "    train_data_dir,\n",
    "    target_size=(img_height, img_width),\n",
    "    batch_size=batch_size,\n",
    "    class_mode='binary')\n",
    "\n",
    "validation_generator = test_datagen.flow_from_directory(\n",
    "    validation_data_dir,\n",
    "    target_size=(img_height, img_width),\n",
    "    batch_size=batch_size,\n",
    "    class_mode='binary')\n",
    "\n",
    "newmodel.fit_generator(\n",
    "    train_generator,\n",
    "    samples_per_epoch=nb_train_samples,\n",
    "    epochs=1,\n",
    "    validation_data=validation_generator,\n",
    "    nb_val_samples=nb_validation_samples)"
   ]
  },
  {
   "cell_type": "code",
   "execution_count": 24,
   "metadata": {},
   "outputs": [
    {
     "data": {
      "text/plain": [
       "'breast_200_split/val'"
      ]
     },
     "execution_count": 24,
     "metadata": {},
     "output_type": "execute_result"
    }
   ],
   "source": [
    "validation_data_dir"
   ]
  },
  {
   "cell_type": "code",
   "execution_count": 12,
   "metadata": {},
   "outputs": [],
   "source": [
    "from keras.models import model_from_json\n",
    "batch_size = 1\n",
    "fine_features_train = newmodel.predict_generator(train_generator, nb_train_samples//batch_size)\n",
    "np.save(open('fine_features_train.npy', 'wb'), fine_features_train)\n",
    "\n",
    "fine_features_val = newmodel.predict_generator(validation_generator, nb_train_samples//batch_size)\n",
    "np.save(open('fine_features_val.npy', 'wb'), fine_features_val)\n",
    "\n",
    "model_new_name = 'tuned_TL_' + mag_fact\n",
    "model_json = newmodel.to_json()\n",
    "\n",
    "with open(model_new_name + '.json', \"w\") as json_file:\n",
    "    json_file.write(model_json)\n",
    "    newmodel.save_weights(model_new_name + '.h5')"
   ]
  },
  {
   "cell_type": "code",
   "execution_count": 14,
   "metadata": {},
   "outputs": [
    {
     "name": "stderr",
     "output_type": "stream",
     "text": [
      "C:\\Users\\PC\\Anaconda3\\lib\\site-packages\\ipykernel_launcher.py:8: UserWarning: The semantics of the Keras 2 argument `steps_per_epoch` is not the same as the Keras 1 argument `samples_per_epoch`. `steps_per_epoch` is the number of batches to draw from the generator at each epoch. Basically steps_per_epoch = samples_per_epoch/batch_size. Similarly `nb_val_samples`->`validation_steps` and `val_samples`->`steps` arguments have changed. Update your method calls accordingly.\n",
      "  \n",
      "C:\\Users\\PC\\Anaconda3\\lib\\site-packages\\ipykernel_launcher.py:8: UserWarning: Update your `fit_generator` call to the Keras 2 API: `fit_generator(<keras.pre..., epochs=30, validation_data=<keras.pre..., steps_per_epoch=1688, validation_steps=315)`\n",
      "  \n"
     ]
    },
    {
     "name": "stdout",
     "output_type": "stream",
     "text": [
      "Epoch 1/30\n",
      "1688/1688 [==============================] - 1373s 813ms/step - loss: 0.6111 - accuracy: 0.6955 - val_loss: 0.2232 - val_accuracy: 0.5651\n",
      "Epoch 2/30\n",
      "1688/1688 [==============================] - 1944s 1s/step - loss: 0.5574 - accuracy: 0.7174 - val_loss: 0.7249 - val_accuracy: 0.6635\n",
      "Epoch 3/30\n",
      "1688/1688 [==============================] - 1945s 1s/step - loss: 0.5073 - accuracy: 0.7435 - val_loss: 0.0024 - val_accuracy: 0.5651\n",
      "Epoch 4/30\n",
      "1688/1688 [==============================] - 1636s 969ms/step - loss: 0.4514 - accuracy: 0.7761 - val_loss: 0.0326 - val_accuracy: 0.8254\n",
      "Epoch 5/30\n",
      "1688/1688 [==============================] - 931s 551ms/step - loss: 0.3824 - accuracy: 0.8252 - val_loss: 0.0728 - val_accuracy: 0.7587\n",
      "Epoch 6/30\n",
      "1688/1688 [==============================] - 707s 419ms/step - loss: 0.3171 - accuracy: 0.8691 - val_loss: 0.0458 - val_accuracy: 0.8952\n",
      "Epoch 7/30\n",
      "1688/1688 [==============================] - 706s 418ms/step - loss: 0.3212 - accuracy: 0.8537 - val_loss: 0.0819 - val_accuracy: 0.8730\n",
      "Epoch 8/30\n",
      "1688/1688 [==============================] - 706s 418ms/step - loss: 0.2985 - accuracy: 0.8768 - val_loss: 1.5096 - val_accuracy: 0.8127\n",
      "Epoch 9/30\n",
      "1688/1688 [==============================] - 706s 418ms/step - loss: 0.2766 - accuracy: 0.8809 - val_loss: 0.0074 - val_accuracy: 0.9143\n",
      "Epoch 10/30\n",
      "1688/1688 [==============================] - 707s 419ms/step - loss: 0.2547 - accuracy: 0.8886 - val_loss: 0.0019 - val_accuracy: 0.7841\n",
      "Epoch 11/30\n",
      "1688/1688 [==============================] - 706s 418ms/step - loss: 0.2697 - accuracy: 0.8851 - val_loss: 2.9629e-06 - val_accuracy: 0.8984\n",
      "Epoch 12/30\n",
      "1688/1688 [==============================] - 706s 418ms/step - loss: 0.2393 - accuracy: 0.9017 - val_loss: 0.0511 - val_accuracy: 0.9175\n",
      "Epoch 13/30\n",
      "1688/1688 [==============================] - 707s 419ms/step - loss: 0.1976 - accuracy: 0.9159 - val_loss: 6.4132e-05 - val_accuracy: 0.9302\n",
      "Epoch 14/30\n",
      "1688/1688 [==============================] - 707s 419ms/step - loss: 0.1888 - accuracy: 0.9271 - val_loss: 0.0109 - val_accuracy: 0.9048\n",
      "Epoch 15/30\n",
      "1688/1688 [==============================] - 707s 419ms/step - loss: 0.1943 - accuracy: 0.9254 - val_loss: 0.0039 - val_accuracy: 0.9333\n",
      "Epoch 16/30\n",
      "1688/1688 [==============================] - 705s 417ms/step - loss: 0.1782 - accuracy: 0.9236 - val_loss: 3.1211e-05 - val_accuracy: 0.9524\n",
      "Epoch 17/30\n",
      "1688/1688 [==============================] - 707s 419ms/step - loss: 0.1671 - accuracy: 0.9348 - val_loss: 5.6819e-04 - val_accuracy: 0.9175\n",
      "Epoch 18/30\n",
      "1688/1688 [==============================] - 706s 418ms/step - loss: 0.1433 - accuracy: 0.9390 - val_loss: 6.9702e-05 - val_accuracy: 0.9587\n",
      "Epoch 19/30\n",
      "1688/1688 [==============================] - 705s 418ms/step - loss: 0.1374 - accuracy: 0.9449 - val_loss: 5.7306e-07 - val_accuracy: 0.9429\n",
      "Epoch 20/30\n",
      "1688/1688 [==============================] - 705s 418ms/step - loss: 0.1318 - accuracy: 0.9467 - val_loss: 0.0011 - val_accuracy: 0.9524\n",
      "Epoch 21/30\n",
      "1688/1688 [==============================] - 706s 418ms/step - loss: 0.1306 - accuracy: 0.9485 - val_loss: 2.2901e-05 - val_accuracy: 0.9746\n",
      "Epoch 22/30\n",
      "1688/1688 [==============================] - 705s 418ms/step - loss: 0.1016 - accuracy: 0.9573 - val_loss: 8.9616 - val_accuracy: 0.7016\n",
      "Epoch 23/30\n",
      "1688/1688 [==============================] - 718s 425ms/step - loss: 0.1160 - accuracy: 0.9585 - val_loss: 3.1060e-07 - val_accuracy: 0.8190\n",
      "Epoch 24/30\n",
      "1688/1688 [==============================] - 704s 417ms/step - loss: 0.1002 - accuracy: 0.9556 - val_loss: 0.4278 - val_accuracy: 0.9714\n",
      "Epoch 25/30\n",
      "1688/1688 [==============================] - 705s 418ms/step - loss: 0.1080 - accuracy: 0.9544 - val_loss: 0.1086 - val_accuracy: 0.9619\n",
      "Epoch 26/30\n",
      "1688/1688 [==============================] - 706s 418ms/step - loss: 0.0789 - accuracy: 0.9739 - val_loss: 8.2420e-05 - val_accuracy: 0.9746\n",
      "Epoch 27/30\n",
      "1688/1688 [==============================] - 704s 417ms/step - loss: 0.0790 - accuracy: 0.9727 - val_loss: 1.4435 - val_accuracy: 0.7841\n",
      "Epoch 28/30\n",
      "1688/1688 [==============================] - 705s 417ms/step - loss: 0.1130 - accuracy: 0.9556 - val_loss: 4.6538e-05 - val_accuracy: 0.9302\n",
      "Epoch 29/30\n",
      "1688/1688 [==============================] - 705s 418ms/step - loss: 0.0869 - accuracy: 0.9716 - val_loss: 1.0066e-06 - val_accuracy: 0.9683\n",
      "Epoch 30/30\n",
      "1688/1688 [==============================] - 706s 418ms/step - loss: 0.0615 - accuracy: 0.9751 - val_loss: 2.4802e-04 - val_accuracy: 0.9556\n"
     ]
    }
   ],
   "source": [
    "batch_size = 1\n",
    "epochs = 30\n",
    "newmodel.fit_generator(\n",
    "    train_generator,\n",
    "    samples_per_epoch=nb_train_samples,\n",
    "    epochs=epochs,\n",
    "    validation_data=validation_generator,\n",
    "    nb_val_samples=nb_validation_samples)\n",
    "\n",
    "#fine_features_train = newmodel.predict_generator(train_generator, nb_train_samples//batch_size)\n",
    "#np.save(open('fine_features_train.npy', 'wb'), fine_features_train)\n",
    "\n",
    "#fine_features_val = newmodel.predict_generator(validation_generator, nb_train_samples//batch_size)\n",
    "#np.save(open('fine_features_val.npy', 'wb'), fine_features_val)\n",
    "\n",
    "model_new_name = 'tuned_TL_' + mag_fact\n",
    "model_json = newmodel.to_json()\n",
    "\n",
    "with open(model_new_name + '.json', \"w\") as json_file:\n",
    "    json_file.write(model_json)\n",
    "    newmodel.save_weights(model_new_name + '.h5')"
   ]
  },
  {
   "cell_type": "code",
   "execution_count": 15,
   "metadata": {},
   "outputs": [
    {
     "name": "stdout",
     "output_type": "stream",
     "text": [
      "Model: \"model_1\"\n",
      "_________________________________________________________________\n",
      "Layer (type)                 Output Shape              Param #   \n",
      "=================================================================\n",
      "input_1 (InputLayer)         (None, 224, 224, 3)       0         \n",
      "_________________________________________________________________\n",
      "block1_conv1 (Conv2D)        (None, 224, 224, 64)      1792      \n",
      "_________________________________________________________________\n",
      "block1_conv2 (Conv2D)        (None, 224, 224, 64)      36928     \n",
      "_________________________________________________________________\n",
      "block1_pool (MaxPooling2D)   (None, 112, 112, 64)      0         \n",
      "_________________________________________________________________\n",
      "block2_conv1 (Conv2D)        (None, 112, 112, 128)     73856     \n",
      "_________________________________________________________________\n",
      "block2_conv2 (Conv2D)        (None, 112, 112, 128)     147584    \n",
      "_________________________________________________________________\n",
      "block2_pool (MaxPooling2D)   (None, 56, 56, 128)       0         \n",
      "_________________________________________________________________\n",
      "block3_conv1 (Conv2D)        (None, 56, 56, 256)       295168    \n",
      "_________________________________________________________________\n",
      "block3_conv2 (Conv2D)        (None, 56, 56, 256)       590080    \n",
      "_________________________________________________________________\n",
      "block3_conv3 (Conv2D)        (None, 56, 56, 256)       590080    \n",
      "_________________________________________________________________\n",
      "block3_pool (MaxPooling2D)   (None, 28, 28, 256)       0         \n",
      "_________________________________________________________________\n",
      "block4_conv1 (Conv2D)        (None, 28, 28, 512)       1180160   \n",
      "_________________________________________________________________\n",
      "block4_conv2 (Conv2D)        (None, 28, 28, 512)       2359808   \n",
      "_________________________________________________________________\n",
      "block4_conv3 (Conv2D)        (None, 28, 28, 512)       2359808   \n",
      "_________________________________________________________________\n",
      "block4_pool (MaxPooling2D)   (None, 14, 14, 512)       0         \n",
      "_________________________________________________________________\n",
      "block5_conv1 (Conv2D)        (None, 14, 14, 512)       2359808   \n",
      "_________________________________________________________________\n",
      "block5_conv2 (Conv2D)        (None, 14, 14, 512)       2359808   \n",
      "_________________________________________________________________\n",
      "block5_conv3 (Conv2D)        (None, 14, 14, 512)       2359808   \n",
      "_________________________________________________________________\n",
      "block5_pool (MaxPooling2D)   (None, 7, 7, 512)         0         \n",
      "_________________________________________________________________\n",
      "sequential_1 (Sequential)    (None, 1)                 6423041   \n",
      "=================================================================\n",
      "Total params: 21,137,729\n",
      "Trainable params: 13,502,465\n",
      "Non-trainable params: 7,635,264\n",
      "_________________________________________________________________\n"
     ]
    }
   ],
   "source": [
    "newmodel.summary()\n",
    "intermediate_from_model = newmodel.get_layer(\"block5_pool\").output\n",
    "bottleneck_model = Model(newmodel.input, intermediate_from_model)\n",
    "bottleneck_model.compile(loss='categorical_crossentropy',optimizer='adam',metrics=['accuracy'])\n",
    "\n",
    "\n",
    "fine_bottleneck_feat_train = bottleneck_model.predict_generator(train_generator, nb_train_samples//batch_size)\n",
    "np.save(open('fine_bottleneck_feat_train.npy', 'wb'), fine_bottleneck_feat_train)\n",
    "\n",
    "fine_bottleneck_feat_val = bottleneck_model.predict_generator(validation_generator, nb_train_samples//batch_size)\n",
    "np.save(open('fine_bottleneck_feat_val.npy', 'wb'), fine_bottleneck_feat_val)"
   ]
  },
  {
   "cell_type": "code",
   "execution_count": 20,
   "metadata": {},
   "outputs": [
    {
     "data": {
      "text/plain": [
       "(1688, 7, 7, 512)"
      ]
     },
     "execution_count": 20,
     "metadata": {},
     "output_type": "execute_result"
    }
   ],
   "source": [
    "np.save(open('fine_bottleneck_feat_train.npy', 'wb'), fine_bottleneck_feat_train)\n"
   ]
  },
  {
   "cell_type": "code",
   "execution_count": 21,
   "metadata": {},
   "outputs": [],
   "source": []
  },
  {
   "cell_type": "code",
   "execution_count": 28,
   "metadata": {},
   "outputs": [],
   "source": [
    "fine_bottleneck_feat_train = bottleneck_model.predict_generator(train_generator, nb_train_samples//batch_size)\n",
    "np.save('fine_bottleneck_feat_train.npy', fine_bottleneck_feat_train)\n",
    "fine_bottleneck_feat_val = bottleneck_model.predict_generator(validation_generator, nb_validation_samples//batch_size)\n",
    "np.save('fine_bottleneck_feat_val.npy', fine_bottleneck_feat_val)"
   ]
  },
  {
   "cell_type": "code",
   "execution_count": 29,
   "metadata": {},
   "outputs": [
    {
     "data": {
      "text/plain": [
       "(315, 7, 7, 512)"
      ]
     },
     "execution_count": 29,
     "metadata": {},
     "output_type": "execute_result"
    }
   ],
   "source": [
    "fine_bottleneck_feat_val.shape"
   ]
  },
  {
   "cell_type": "code",
   "execution_count": null,
   "metadata": {},
   "outputs": [],
   "source": [
    "#from keras.models import model_from_json\n",
    "#model_new_name = 'finetuning_model_' + mag_fact\n",
    "\n",
    "#model_json = model.to_json()\n",
    "#with open(model_new_name + '.json', \"w\") as json_file:\n",
    "#    json_file.write(model_json)\n",
    "\n",
    "#model.save_weights(model_new_name + '.h5')\n"
   ]
  },
  {
   "cell_type": "code",
   "execution_count": null,
   "metadata": {},
   "outputs": [],
   "source": [
    "batch_size = 10\n",
    "epochs = 1\n",
    "newmodel.fit_generator(\n",
    "    train_generator,\n",
    "    samples_per_epoch=nb_train_samples,\n",
    "    epochs=epochs,\n",
    "    validation_data=validation_generator,\n",
    "    nb_val_samples=nb_validation_samples)\n",
    "\n",
    "model_new_name = 'tuned_TL_' + mag_fact\n",
    "model_json = newmodel.to_json()\n",
    "\n",
    "with open(model_new_name + '.json', \"w\") as json_file:\n",
    "    json_file.write(model_json)\n",
    "    newmodel.save_weights(model_new_name + '.h5')"
   ]
  }
 ],
 "metadata": {
  "kernelspec": {
   "display_name": "Python 3",
   "language": "python",
   "name": "python3"
  },
  "language_info": {
   "codemirror_mode": {
    "name": "ipython",
    "version": 3
   },
   "file_extension": ".py",
   "mimetype": "text/x-python",
   "name": "python",
   "nbconvert_exporter": "python",
   "pygments_lexer": "ipython3",
   "version": "3.7.4"
  }
 },
 "nbformat": 4,
 "nbformat_minor": 2
}
