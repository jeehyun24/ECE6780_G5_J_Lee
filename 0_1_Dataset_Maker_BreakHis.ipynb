{
 "cells": [
  {
   "cell_type": "code",
   "execution_count": 6,
   "metadata": {},
   "outputs": [
    {
     "name": "stdout",
     "output_type": "stream",
     "text": [
      "C:\\Users\\PC\\Jeehyun\\ECE6780\\Data\n"
     ]
    }
   ],
   "source": [
    "cd C:/Users/PC/Jeehyun/ECE6780/Data"
   ]
  },
  {
   "cell_type": "code",
   "execution_count": 7,
   "metadata": {},
   "outputs": [],
   "source": [
    "import os\n",
    "from shutil import copyfile"
   ]
  },
  {
   "cell_type": "code",
   "execution_count": 8,
   "metadata": {},
   "outputs": [],
   "source": [
    "# Seperate 40x, 100x, 200x, 400x images into seperate directories. \n",
    "# Each element of the below list is a path to the directory.\n",
    "directories = ['vgg/breast_40', 'vgg/breast_100', 'vgg/breast_200', 'vgg/breast_400']\n",
    "\n",
    "for directory in directories:\n",
    "    # Make directory if it does not exist\n",
    "    if not os.path.exists(directory):\n",
    "        os.makedirs(directory)\n",
    "\n",
    "    directory_b = directory+'/benign'\n",
    "    directory_m = directory+'/malignant'\n",
    "    # Make benign and malignant sub-directories for each directory if they do not exist\n",
    "    if not os.path.exists(directory_b):\n",
    "        os.makedirs(directory_b)\n",
    "    if not os.path.exists(directory_m):\n",
    "        os.makedirs(directory_m)"
   ]
  },
  {
   "cell_type": "code",
   "execution_count": 9,
   "metadata": {},
   "outputs": [],
   "source": [
    "benign_types = os.listdir('BreakHis_v1/histology_slides/breast/benign/SOB')\n",
    "# Store the types. Example: 'adenosis', 'fibroadenoma', 'phyllodes_tumor', 'tubular_adenoma'.\n",
    "benign_types = [x for x in benign_types if x!= '.DS_Store']\n",
    "\n",
    "zooms = ['40', '100', '200', '400']\n",
    "\n",
    "# Copy files from benign to other folder\n",
    "for benign_type in benign_types:\n",
    "    patients = os.listdir('BreakHis_v1/histology_slides/breast/benign/SOB/'+benign_type)\n",
    "    patients = [x for x in patients if x!= '.DS_Store']\n",
    "    \n",
    "    for patient in patients:\n",
    "        for zoom in zooms:\n",
    "            images = os.listdir('BreakHis_v1/histology_slides/breast/benign/SOB/'+benign_type+'/'+patient+'/'+zoom+'X')\n",
    "            images = [x for x in images if x!= '.DS_Store']\n",
    "            for image in images:\n",
    "                copyfile('BreakHis_v1/histology_slides/breast/benign/SOB/'+benign_type+'/'+patient+'/'+zoom+'X'+'/'+image, 'vgg/breast_'+zoom+'/benign/'+image)"
   ]
  },
  {
   "cell_type": "code",
   "execution_count": 10,
   "metadata": {},
   "outputs": [],
   "source": [
    "malignant_types = os.listdir('BreakHis_v1/histology_slides/breast/malignant/SOB')\n",
    "# Store the types. Example: 'ductal_carcinoma', 'lobular_carcinoma', 'mucinous_carcinoma', 'papillary_carcinoma'.\n",
    "malignant_types = [x for x in malignant_types if x!= '.DS_Store']\n",
    "\n",
    "zooms = ['40', '100', '200', '400']\n",
    "\n",
    "# Copy files from benign to other folder\n",
    "for malignant_type in malignant_types:\n",
    "    patients = os.listdir('BreakHis_v1/histology_slides/breast/malignant/SOB/'+malignant_type)\n",
    "    patients = [x for x in patients if x!= '.DS_Store']\n",
    "    \n",
    "    for patient in patients:\n",
    "        for zoom in zooms:\n",
    "            images = os.listdir('BreakHis_v1/histology_slides/breast/malignant/SOB/'+malignant_type+'/'+patient+'/'+zoom+'X')\n",
    "            images = [x for x in images if x!= '.DS_Store']\n",
    "            for image in images:\n",
    "                copyfile('BreakHis_v1/histology_slides/breast/malignant/SOB/'+malignant_type+'/'+patient+'/'+zoom+'X'+'/'+image, 'vgg/breast_'+zoom+'/malignant/'+image)"
   ]
  },
  {
   "cell_type": "code",
   "execution_count": null,
   "metadata": {},
   "outputs": [],
   "source": []
  }
 ],
 "metadata": {
  "kernelspec": {
   "display_name": "Python 3",
   "language": "python",
   "name": "python3"
  },
  "language_info": {
   "codemirror_mode": {
    "name": "ipython",
    "version": 3
   },
   "file_extension": ".py",
   "mimetype": "text/x-python",
   "name": "python",
   "nbconvert_exporter": "python",
   "pygments_lexer": "ipython3",
   "version": "3.7.4"
  }
 },
 "nbformat": 4,
 "nbformat_minor": 2
}
